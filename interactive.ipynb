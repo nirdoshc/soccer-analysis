{
 "cells": [
  {
   "cell_type": "code",
   "execution_count": 1,
   "metadata": {},
   "outputs": [],
   "source": [
    "# Import required dependencies\n",
    "import pandas as pd\n",
    "import matplotlib.pyplot as plt\n",
    "from datetime import datetime as dt\n",
    "\n",
    "%matplotlib inline\n",
    "\n",
    "# Utility function to print a box\n",
    "def print_msg_box(msg, indent=1, width=None, title=None):\n",
    "    \"\"\"Print message-box with optional title.\"\"\"\n",
    "    lines = msg.split('\\n')\n",
    "    space = \" \" * indent\n",
    "    if not width:\n",
    "        width = max(map(len, lines))\n",
    "    box = f'╔{\"═\" * (width + indent * 2)}╗\\n'  # upper_border\n",
    "    if title:\n",
    "        box += f'║{space}{title:<{width}}{space}║\\n'  # title\n",
    "        box += f'║{space}{\"-\" * len(title):<{width}}{space}║\\n'  # underscore\n",
    "    box += ''.join([f'║{space}{line:<{width}}{space}║\\n' for line in lines])\n",
    "    box += f'╚{\"═\" * (width + indent * 2)}╝'  # lower_border\n",
    "    print(box, flush=True)"
   ]
  },
  {
   "cell_type": "markdown",
   "metadata": {},
   "source": [
    "## Data summary "
   ]
  },
  {
   "cell_type": "code",
   "execution_count": 2,
   "metadata": {},
   "outputs": [],
   "source": [
    "#Load the cleaned, processed and aggregated data\n",
    "processed_data = pd.read_csv('processed_data.csv')"
   ]
  },
  {
   "cell_type": "code",
   "execution_count": 3,
   "metadata": {
    "scrolled": true
   },
   "outputs": [
    {
     "name": "stdout",
     "output_type": "stream",
     "text": [
      "              precision    recall  f1-score   support\n",
      "\n",
      "           A       0.49      0.44      0.47       189\n",
      "           D       0.29      0.06      0.10       168\n",
      "           H       0.54      0.81      0.65       310\n",
      "\n",
      "    accuracy                           0.52       667\n",
      "   macro avg       0.44      0.44      0.40       667\n",
      "weighted avg       0.46      0.52      0.46       667\n",
      "\n"
     ]
    },
    {
     "data": {
      "image/png": "[encoded data removed]",
      "text/plain": [
       "<Figure size 432x288 with 2 Axes>"
      ]
     },
     "metadata": {
      "needs_background": "light"
     },
     "output_type": "display_data"
    }
   ],
   "source": [
    "from sklearn.model_selection import train_test_split\n",
    "from sklearn.metrics import confusion_matrix, classification_report\n",
    "import seaborn as sns\n",
    "\n",
    "# Separate the data into features and prediction target\n",
    "# Full Time Result (H=Home Team Win, D=Draw, A=Away Team Win)\n",
    "df = processed_data.copy().drop(columns=['Date', 'HomeTeam', 'AwayTeam', 'HS', 'AS', 'HST', 'AST', 'FTHG', 'FTAG', 'HC', 'AC'])\n",
    "data = df[~df[df.columns[1:]].isin((0, 0.0)).all(axis=1)]\n",
    "X_all = data.drop(['FTR'],1)\n",
    "y_all = data['FTR']\n",
    "\n",
    "# Split the data into training and test sets\n",
    "X_train, X_test, y_train, y_test = train_test_split(X_all, y_all, \n",
    "                                                    test_size = 0.1,\n",
    "                                                    random_state = 3,\n",
    "                                                    stratify = y_all)\n",
    "\n",
    "\n",
    "# Random Forrest algorithm to fit the training data\n",
    "from sklearn.ensemble import RandomForestClassifier\n",
    "classifier = RandomForestClassifier(criterion='gini', \n",
    "                             n_estimators=700,\n",
    "                             min_samples_split=10,\n",
    "                             min_samples_leaf=1,\n",
    "                             max_features='auto',\n",
    "                             oob_score=True,\n",
    "                             random_state=1,\n",
    "                             n_jobs=-1)\n",
    "classifier.fit(X_train, y_train)\n",
    "\n",
    "# Prediction result of test data\n",
    "Y_pred = classifier.predict(X_test)\n",
    "\n",
    "# Generating and printing the confusion matrix\n",
    "confMat = confusion_matrix(y_test, Y_pred)\n",
    "sns.heatmap(confMat, annot=True,fmt='d')\n",
    "print(classification_report(y_test, Y_pred))\n"
   ]
  },
  {
   "cell_type": "markdown",
   "metadata": {},
   "source": [
    "## Prediction System \n",
    "\n",
    "> Predictions are based on a professional league season. \n",
    "> Input data are cumulative values until the matchweek that is being predicted."
   ]
  },
  {
   "cell_type": "code",
   "execution_count": 4,
   "metadata": {
    "scrolled": false
   },
   "outputs": [
    {
     "data": {
      "application/vnd.jupyter.widget-view+json": {
       "model_id": "c4161d84222345759b9cdbf5d26286f7",
       "version_major": 2,
       "version_minor": 0
      },
      "text/plain": [
       "VBox(children=(VBox(children=(HBox(children=(Label(value='Home team total shots made (HTSM): ', layout=Layout(…"
      ]
     },
     "metadata": {},
     "output_type": "display_data"
    },
    {
     "data": {
      "application/vnd.jupyter.widget-view+json": {
       "model_id": "60dfcdf937f5494183d03d449d3408ab",
       "version_major": 2,
       "version_minor": 0
      },
      "text/plain": [
       "Output()"
      ]
     },
     "metadata": {},
     "output_type": "display_data"
    }
   ],
   "source": [
    "from IPython.display import display, Markdown, clear_output\n",
    "from ipywidgets import VBox, HBox, Label, Layout, Output, Button, BoundedIntText\n",
    "\n",
    "\n",
    "# Map of Full Time Result (FTR) value and appropriate description\n",
    "ftr_map = {'H': 'Home team wins!!', 'A': 'Away team wins!!', 'D': 'Draw'}\n",
    "\n",
    "# Create a text input box and label widget\n",
    "def create_input(label):\n",
    "    label_layout = Layout(width='auto',height='30px')\n",
    "    return HBox([Label(label,layout=label_layout), BoundedIntText(\n",
    "                min=0,\n",
    "                max=100000,\n",
    "                step=1,\n",
    "                description='',\n",
    "                disabled=False)])\n",
    "\n",
    "# Create the input widget for each parameter required for prediction\n",
    "htsm = create_input('Home team total shots made (HTSM): ')\n",
    "atsm = create_input('Away team total shots made (ATSM): ')\n",
    "htsc = create_input('Home team total shots conceded (HTSC): ')\n",
    "atsc = create_input('Away team total shots conceded (ATSC): ')\n",
    "htags = create_input('Home team aggregate goal scored (HTAGS): ')\n",
    "atags = create_input('Away team aggregate goal scored (ATAGS): ')\n",
    "htagc = create_input('Home team aggregate goal conceded (HTAGC): ')\n",
    "atagc = create_input('Away team aggregate goal conceded (ATAGC): ')\n",
    "htap = create_input('Home team total points (HTAP): ')\n",
    "atap = create_input('Away team total points (ATAP): ')\n",
    "htws = create_input('Home team win streak (HTWS): ')\n",
    "atws = create_input('Away team win streak (ATWS): ')\n",
    "\n",
    "# Extract input value from a HBox\n",
    "def getInputValue(hbox):\n",
    "    return hbox.children[1].value\n",
    "\n",
    "# Create Predict button which runs predictions on click\n",
    "predict_button = Button(description='Predict', button_style='primary')\n",
    "\n",
    "input_boxes = VBox([htsm, atsm, htsc, atsc, htags, atags, htagc, atagc, htap, atap, htws, atws])\n",
    "full_input_form = VBox([input_boxes, predict_button])\n",
    "display(full_input_form)\n",
    "\n",
    "out = Output()\n",
    "display(out)\n",
    "\n",
    "# Callback function which runs after hitting Predict button\n",
    "# This function runs the prediction and prints the result\n",
    "def run_prediction(b):\n",
    "    with out:\n",
    "        inp = pd.DataFrame(\n",
    "        [[getInputValue(htsm), getInputValue(atsm), getInputValue(htsc), getInputValue(atsc), getInputValue(htags), getInputValue(atags), getInputValue(htagc), getInputValue(atagc), getInputValue(htap), getInputValue(atap), getInputValue(htws), getInputValue(atws)]], \n",
    "        columns=['HTSM', 'ATSM', 'HTSC', 'ATSC','HTAGS','ATAGS','HTAGC','ATAGC','HTAP','ATAP','HTWS','ATWS'])\n",
    "        result = classifier.predict(inp)[0]\n",
    "\n",
    "        clear_output()\n",
    "        # Printing the prediction result\n",
    "        print_msg_box('Prediction based on following data:\\n'+ str(inp) + '\\nPrediction result:\\n' + str(ftr_map.get(result)))\n",
    "\n",
    "predict_button.on_click(run_prediction)"
   ]
  }
 ],
 "metadata": {
  "kernelspec": {
   "display_name": "Python 3",
   "language": "python",
   "name": "python3"
  },
  "language_info": {
   "codemirror_mode": {
    "name": "ipython",
    "version": 3
   },
   "file_extension": ".py",
   "mimetype": "text/x-python",
   "name": "python",
   "nbconvert_exporter": "python",
   "pygments_lexer": "ipython3",
   "version": "3.7.7"
  }
 },
 "nbformat": 4,
 "nbformat_minor": 4
}
